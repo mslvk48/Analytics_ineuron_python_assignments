{
 "cells": [
  {
   "cell_type": "markdown",
   "id": "e5e0e6cc",
   "metadata": {},
   "source": [
    "#### 1.Python program to find smallest number in a list"
   ]
  },
  {
   "cell_type": "code",
   "execution_count": 4,
   "id": "37011259",
   "metadata": {},
   "outputs": [
    {
     "data": {
      "text/plain": [
       "1"
      ]
     },
     "execution_count": 4,
     "metadata": {},
     "output_type": "execute_result"
    }
   ],
   "source": [
    "a=[1,534,87,37,8,7]\n",
    "\n",
    "min(a)"
   ]
  },
  {
   "cell_type": "markdown",
   "id": "7dd9bf5e",
   "metadata": {},
   "source": [
    "#### 2.Python program to find largest number in a list"
   ]
  },
  {
   "cell_type": "code",
   "execution_count": 13,
   "id": "3b94131c",
   "metadata": {},
   "outputs": [
    {
     "data": {
      "text/plain": [
       "534"
      ]
     },
     "execution_count": 13,
     "metadata": {},
     "output_type": "execute_result"
    }
   ],
   "source": [
    "a=[1,534,87,534,8,7]\n",
    "\n",
    "max(a)"
   ]
  },
  {
   "cell_type": "markdown",
   "id": "36eeea38",
   "metadata": {},
   "source": [
    "#### 3.Python program to find second largest number in a list"
   ]
  },
  {
   "cell_type": "code",
   "execution_count": 17,
   "id": "f4c51ad7",
   "metadata": {},
   "outputs": [
    {
     "name": "stdout",
     "output_type": "stream",
     "text": [
      "Counter({534: 2, 1: 1, 87: 1, 8: 1, 7: 1}) <class 'collections.Counter'>\n"
     ]
    },
    {
     "data": {
      "text/plain": [
       "87"
      ]
     },
     "execution_count": 17,
     "metadata": {},
     "output_type": "execute_result"
    }
   ],
   "source": [
    "from collections import Counter\n",
    "\n",
    "a=[1,534,87,534,8,7]\n",
    "def sec_lar(A):\n",
    "    B=Counter(A)\n",
    "    #print(B,type(B))\n",
    "    return sorted(B, reverse=True)[1]\n",
    "\n",
    "sec_lar(a)"
   ]
  },
  {
   "cell_type": "markdown",
   "id": "19d0e9fb",
   "metadata": {},
   "source": [
    "#### 4.Python program to find N largest elements from a list"
   ]
  },
  {
   "cell_type": "code",
   "execution_count": 19,
   "id": "e2c6e884",
   "metadata": {},
   "outputs": [
    {
     "data": {
      "text/plain": [
       "[65, 76, 87, 534]"
      ]
     },
     "execution_count": 19,
     "metadata": {},
     "output_type": "execute_result"
    }
   ],
   "source": [
    "from collections import Counter\n",
    "\n",
    "a=[1,534,87,534,8,7,8,65,76,0]\n",
    "def sec_lar(A):\n",
    "    B=Counter(A)\n",
    "    #print(B,type(B))\n",
    "    return sorted(B)[-n:]\n",
    "n=4\n",
    "sec_lar(a)"
   ]
  },
  {
   "cell_type": "markdown",
   "id": "abcd300f",
   "metadata": {},
   "source": [
    "#### 5.Python program to print even numbers in a list"
   ]
  },
  {
   "cell_type": "code",
   "execution_count": 24,
   "id": "3a8f22ee",
   "metadata": {},
   "outputs": [
    {
     "data": {
      "text/plain": [
       "[534, 534, 8, 8, 76, 0]"
      ]
     },
     "execution_count": 24,
     "metadata": {},
     "output_type": "execute_result"
    }
   ],
   "source": [
    "a=[1,534,87,534,8,7,8,65,76,0]\n",
    "\n",
    "def even_lis(A):\n",
    "    b=[i for i in A if i%2==0]\n",
    "    return b\n",
    "    \n",
    "even_lis(a)"
   ]
  },
  {
   "cell_type": "markdown",
   "id": "5fb6eb2a",
   "metadata": {},
   "source": [
    "#### 6.Python program to print odd numbers in a List"
   ]
  },
  {
   "cell_type": "code",
   "execution_count": 33,
   "id": "f2337d5f",
   "metadata": {},
   "outputs": [
    {
     "data": {
      "text/plain": [
       "[1, 87, 7, 65]"
      ]
     },
     "execution_count": 33,
     "metadata": {},
     "output_type": "execute_result"
    }
   ],
   "source": [
    "a=[1,534,87,534,8,7,8,65,76,0]\n",
    "\n",
    "def odd_lis(A):\n",
    "    b=list(filter(lambda x: (x % 2 != 0), A))\n",
    "    return b\n",
    "    \n",
    "odd_lis(a)\n"
   ]
  },
  {
   "cell_type": "markdown",
   "id": "2fae53f0",
   "metadata": {},
   "source": [
    "#### 7.Python program to print all even numbers in a range"
   ]
  },
  {
   "cell_type": "code",
   "execution_count": 34,
   "id": "39cbad78",
   "metadata": {},
   "outputs": [
    {
     "data": {
      "text/plain": [
       "[16, 18, 20, 22, 24]"
      ]
     },
     "execution_count": 34,
     "metadata": {},
     "output_type": "execute_result"
    }
   ],
   "source": [
    "def even_range(A,B):\n",
    "    b=[i for i in range(A,B) if i%2==0]\n",
    "    return b\n",
    "    \n",
    "even_range(15,25)"
   ]
  },
  {
   "cell_type": "markdown",
   "id": "dcc15bd7",
   "metadata": {},
   "source": [
    "#### 8.Python program to print all odd numbers in a range"
   ]
  },
  {
   "cell_type": "code",
   "execution_count": 35,
   "id": "abd59813",
   "metadata": {},
   "outputs": [
    {
     "data": {
      "text/plain": [
       "[15, 17, 19, 21, 23]"
      ]
     },
     "execution_count": 35,
     "metadata": {},
     "output_type": "execute_result"
    }
   ],
   "source": [
    "def odd_range(A,B):\n",
    "    b=list(filter(lambda x: (x % 2 != 0), range(A,B)))\n",
    "    return b\n",
    "    \n",
    "odd_range(15,25)"
   ]
  },
  {
   "cell_type": "markdown",
   "id": "94779225",
   "metadata": {},
   "source": [
    "#### 9.Python program to print positive numbers in a list"
   ]
  },
  {
   "cell_type": "code",
   "execution_count": 37,
   "id": "28c92a02",
   "metadata": {},
   "outputs": [
    {
     "data": {
      "text/plain": [
       "[1, 534, 7, 8, 65]"
      ]
     },
     "execution_count": 37,
     "metadata": {},
     "output_type": "execute_result"
    }
   ],
   "source": [
    "a=[1,534,-87,-534,-8,7,8,65,-76,0]\n",
    "\n",
    "def pos_lis(A):\n",
    "    b=list(filter(lambda x: (x > 0), A))\n",
    "    return b\n",
    "    \n",
    "pos_lis(a)\n"
   ]
  },
  {
   "cell_type": "markdown",
   "id": "8bb15128",
   "metadata": {},
   "source": [
    "#### 10.Python program to print negative numbers in a list"
   ]
  },
  {
   "cell_type": "code",
   "execution_count": 38,
   "id": "3010aee5",
   "metadata": {},
   "outputs": [
    {
     "data": {
      "text/plain": [
       "[-87, -534, -8, -76]"
      ]
     },
     "execution_count": 38,
     "metadata": {},
     "output_type": "execute_result"
    }
   ],
   "source": [
    "a=[1,534,-87,-534,-8,7,8,65,-76,0]\n",
    "\n",
    "def pos_lis(A):\n",
    "    b=list(filter(lambda x: (x < 0), A))\n",
    "    return b\n",
    "    \n",
    "pos_lis(a)\n"
   ]
  },
  {
   "cell_type": "markdown",
   "id": "8ee02736",
   "metadata": {},
   "source": [
    "#### 11.Python program to print all positive numbers in a range"
   ]
  },
  {
   "cell_type": "code",
   "execution_count": 39,
   "id": "df0636ca",
   "metadata": {},
   "outputs": [
    {
     "data": {
      "text/plain": [
       "[1, 2, 3, 4, 5, 6, 7, 8, 9, 10, 11, 12, 13, 14]"
      ]
     },
     "execution_count": 39,
     "metadata": {},
     "output_type": "execute_result"
    }
   ],
   "source": [
    "def pos_range(A,B):\n",
    "    b=list(filter(lambda x: (x > 0), range(A,B)))\n",
    "    return b\n",
    "    \n",
    "pos_range(-15,15)"
   ]
  },
  {
   "cell_type": "code",
   "execution_count": null,
   "id": "286272e1",
   "metadata": {},
   "outputs": [],
   "source": []
  }
 ],
 "metadata": {
  "kernelspec": {
   "display_name": "Python 3",
   "language": "python",
   "name": "python3"
  },
  "language_info": {
   "codemirror_mode": {
    "name": "ipython",
    "version": 3
   },
   "file_extension": ".py",
   "mimetype": "text/x-python",
   "name": "python",
   "nbconvert_exporter": "python",
   "pygments_lexer": "ipython3",
   "version": "3.8.8"
  }
 },
 "nbformat": 4,
 "nbformat_minor": 5
}
