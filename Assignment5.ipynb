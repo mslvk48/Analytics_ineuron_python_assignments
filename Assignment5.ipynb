{
 "cells": [
  {
   "cell_type": "markdown",
   "id": "e5e0e6cc",
   "metadata": {},
   "source": [
    "#### 1.Python program to print all negative numbers in a range"
   ]
  },
  {
   "cell_type": "code",
   "execution_count": 3,
   "id": "37011259",
   "metadata": {},
   "outputs": [
    {
     "data": {
      "text/plain": [
       "[-15, -14, -13, -12, -11, -10, -9, -8, -7, -6, -5, -4, -3, -2, -1]"
      ]
     },
     "execution_count": 3,
     "metadata": {},
     "output_type": "execute_result"
    }
   ],
   "source": [
    "def neg_range(A,B):\n",
    "    return list(filter(lambda x: (x < 0), range(A,B)))\n",
    "\n",
    "neg_range(-15,15)"
   ]
  },
  {
   "cell_type": "markdown",
   "id": "7dd9bf5e",
   "metadata": {},
   "source": [
    "#### 2.Remove multiple elements from a list in Python"
   ]
  },
  {
   "cell_type": "code",
   "execution_count": 8,
   "id": "3b94131c",
   "metadata": {},
   "outputs": [
    {
     "name": "stdout",
     "output_type": "stream",
     "text": [
      "New list after removing unwanted numbers:  [17, 18, 23]\n"
     ]
    }
   ],
   "source": [
    "list1 = [11, 5, 17, 18, 23, 50]\n",
    " \n",
    "unwanted_num = {11, 5,50}\n",
    " \n",
    "list1=list(filter(lambda x: x not in unwanted_num, list1))\n",
    "\n",
    "#list1 = [i for i in list1 if i not in unwanted_num]\n",
    "\n",
    "print(\"New list after removing unwanted numbers: \", list1)"
   ]
  },
  {
   "cell_type": "markdown",
   "id": "36eeea38",
   "metadata": {},
   "source": [
    "#### 3.write a Python program to Remove empty List from List"
   ]
  },
  {
   "cell_type": "code",
   "execution_count": 13,
   "id": "f4c51ad7",
   "metadata": {},
   "outputs": [
    {
     "name": "stdout",
     "output_type": "stream",
     "text": [
      "[[5, 'sa'], [4, 5, 5, 8, 5], [5]]\n"
     ]
    }
   ],
   "source": [
    "A=[[5,'sa'],[4,5,5,8,5],[],[5],[]]\n",
    "\n",
    "A=list(filter(lambda x: x != [], A))\n",
    "\n",
    "#A=list(filter(None, A))\n",
    "\n",
    "print(A)"
   ]
  },
  {
   "cell_type": "markdown",
   "id": "19d0e9fb",
   "metadata": {},
   "source": [
    "#### 4.write a Python program to Cloning or Copying a list"
   ]
  },
  {
   "cell_type": "code",
   "execution_count": 18,
   "id": "e2c6e884",
   "metadata": {},
   "outputs": [
    {
     "name": "stdout",
     "output_type": "stream",
     "text": [
      "Original List: [4, 8, 2]\n",
      "After Cloning: [4, 8, 2]\n",
      "original modified: [4, 8]\n",
      "cloned After original is modified: [4, 8, 2]\n"
     ]
    }
   ],
   "source": [
    "def Clone(l1):\n",
    "    l1_copy =[]\n",
    "    l1_copy = l1.copy()\n",
    "    return l1_copy\n",
    "   \n",
    "\n",
    "l1 = [4, 8, 2]\n",
    "l2 = Clone(l1)\n",
    "\n",
    "print(\"Original List:\", l1)\n",
    "print(\"After Cloning:\", l2)\n",
    "\n",
    "l1.pop()\n",
    "\n",
    "print(\"original modified:\", l1)\n",
    "print(\"cloned After original is modified:\", l2)"
   ]
  },
  {
   "cell_type": "markdown",
   "id": "abcd300f",
   "metadata": {},
   "source": [
    "#### 5. write a Python program to Count occurrences of an element in a list"
   ]
  },
  {
   "cell_type": "code",
   "execution_count": 24,
   "id": "3a8f22ee",
   "metadata": {},
   "outputs": [
    {
     "name": "stdout",
     "output_type": "stream",
     "text": [
      "8 has occurred 2 times\n"
     ]
    }
   ],
   "source": [
    "a=[0,'A','A',1,534,87,'b',534,8,7,8,65,76,0]\n",
    "\n",
    "x = 8\n",
    "print('{} has occurred {} times'.format(x, a.count(x)))"
   ]
  },
  {
   "cell_type": "code",
   "execution_count": 29,
   "id": "c8c3d9fd",
   "metadata": {},
   "outputs": [
    {
     "name": "stdout",
     "output_type": "stream",
     "text": [
      "8 has occurred 2 times\n"
     ]
    }
   ],
   "source": [
    "from collections import Counter\n",
    " \n",
    "a=[0,'A','A',1,534,87,'b',534,8,7,8,65,76,0]\n",
    " \n",
    "x = 8\n",
    "d = Counter(a)\n",
    "print('{} has occurred {} times'.format(x, d[x]))\n",
    "#print(type(d),d)"
   ]
  },
  {
   "cell_type": "markdown",
   "id": "5fb6eb2a",
   "metadata": {},
   "source": [
    "#### 6.write a Python program to Remove empty tuples from a list"
   ]
  },
  {
   "cell_type": "code",
   "execution_count": 32,
   "id": "f2337d5f",
   "metadata": {},
   "outputs": [
    {
     "name": "stdout",
     "output_type": "stream",
     "text": [
      "[[5, 'sa'], [4, 5, 5, 8, 5], [5]]\n"
     ]
    }
   ],
   "source": [
    "A=[[5,'sa'],[4,5,5,8,5],[],(),(),[5],[]]\n",
    "\n",
    "A=list(filter(None, A))\n",
    "\n",
    "print(A)"
   ]
  },
  {
   "cell_type": "markdown",
   "id": "2fae53f0",
   "metadata": {},
   "source": [
    "#### 7.write a Python program to Program to print duplicates from a list of integers"
   ]
  },
  {
   "cell_type": "code",
   "execution_count": 34,
   "id": "39cbad78",
   "metadata": {},
   "outputs": [
    {
     "name": "stdout",
     "output_type": "stream",
     "text": [
      "[0, 'A', 1, 534, 87, 'b', 8, 7, 65, 76]\n"
     ]
    }
   ],
   "source": [
    "a=[0,'A','A',1,534,87,'b',534,8,7,8,65,76,0]\n",
    "\n",
    "from collections import Counter\n",
    "\n",
    "#print(list(set(a)))\n",
    "\n",
    "print(list(Counter(a)))"
   ]
  },
  {
   "cell_type": "markdown",
   "id": "dcc15bd7",
   "metadata": {},
   "source": [
    "#### 8.write a Python program to find Cumulative sum of a list"
   ]
  },
  {
   "cell_type": "code",
   "execution_count": 38,
   "id": "abd59813",
   "metadata": {},
   "outputs": [
    {
     "name": "stdout",
     "output_type": "stream",
     "text": [
      "[10, 30, 60, 100, 150]\n"
     ]
    }
   ],
   "source": [
    "def Cumulative(lists):\n",
    "    cu_ls = []\n",
    "    ln = len(lists)\n",
    "    cu_ls = [sum(lists[0:x]) for x in range(1, ln+1)]\n",
    "    return cu_ls[:]\n",
    "\n",
    "l1 = [10, 20, 30, 40, 50]\n",
    "print (Cumulative(l1))"
   ]
  },
  {
   "cell_type": "markdown",
   "id": "94779225",
   "metadata": {},
   "source": [
    "#### 9.write a Python program to Sum of number digits in List"
   ]
  },
  {
   "cell_type": "code",
   "execution_count": 55,
   "id": "28c92a02",
   "metadata": {},
   "outputs": [
    {
     "name": "stdout",
     "output_type": "stream",
     "text": [
      "[1, 12, 15, 12, 9, 7, 9, 11, 13, 0, 1]\n"
     ]
    }
   ],
   "source": [
    "a=[1,534,-87,-534,-18,7,18,65,-76,0,10]\n",
    "\n",
    "res = list(map(lambda ele: sum(int(i) for i in str(abs(ele))), a))\n",
    "\n",
    "print(res)"
   ]
  },
  {
   "cell_type": "markdown",
   "id": "8bb15128",
   "metadata": {},
   "source": [
    "#### 10.write a Python program to Break a list into chunks of size N"
   ]
  },
  {
   "cell_type": "code",
   "execution_count": 59,
   "id": "3010aee5",
   "metadata": {},
   "outputs": [
    {
     "name": "stdout",
     "output_type": "stream",
     "text": [
      "[[1, 534, -87, -534], [7, 8, 65, -76], [0, []]]\n"
     ]
    }
   ],
   "source": [
    "a=[1,534,-87,-534,7,8,65,-76,0,[]]\n",
    "\n",
    "def divide_chunks(l, n):\n",
    "    for i in range(0, len(l), n): \n",
    "        yield l[i:i + n]\n",
    "\n",
    "n = 4\n",
    "  \n",
    "x = list(divide_chunks(a, n))\n",
    "print (x)\n"
   ]
  },
  {
   "cell_type": "markdown",
   "id": "8ee02736",
   "metadata": {},
   "source": [
    "#### 11.write a Python program to Sort the values of first list using second list"
   ]
  },
  {
   "cell_type": "code",
   "execution_count": 83,
   "id": "df0636ca",
   "metadata": {},
   "outputs": [
    {
     "data": {
      "text/plain": [
       "['g', 'k', 'r', 'e', 'e', 'g', 's', 'f', 'o']"
      ]
     },
     "execution_count": 83,
     "metadata": {},
     "output_type": "execute_result"
    }
   ],
   "source": [
    "list1 = [\"g\", \"e\", \"e\", \"k\", \"s\", \"f\", \"o\", \"r\", \"g\", \"e\", \"e\", \"k\", \"s\"]\n",
    "list2 = [ 0,   1,   1,    0,   1,   2,   2,   0,   1]\n",
    "\n",
    "def sort_list(list1, list2):\n",
    " \n",
    "    zipped_pairs = zip(list2, list1)\n",
    "    #print(sorted(zipped_pairs))\n",
    " \n",
    "    z = [x for i, x in sorted(zipped_pairs)]\n",
    "     \n",
    "    return z\n",
    "\n",
    "sort_list(list1,list2)"
   ]
  },
  {
   "cell_type": "code",
   "execution_count": null,
   "id": "286272e1",
   "metadata": {},
   "outputs": [],
   "source": []
  }
 ],
 "metadata": {
  "kernelspec": {
   "display_name": "Python 3",
   "language": "python",
   "name": "python3"
  },
  "language_info": {
   "codemirror_mode": {
    "name": "ipython",
    "version": 3
   },
   "file_extension": ".py",
   "mimetype": "text/x-python",
   "name": "python",
   "nbconvert_exporter": "python",
   "pygments_lexer": "ipython3",
   "version": "3.8.8"
  }
 },
 "nbformat": 4,
 "nbformat_minor": 5
}
