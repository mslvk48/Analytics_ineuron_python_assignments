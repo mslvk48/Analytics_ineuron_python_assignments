{
 "cells": [
  {
   "cell_type": "markdown",
   "id": "24481e13",
   "metadata": {},
   "source": [
    "#### 1.Python Program for n-th Fibonacci number"
   ]
  },
  {
   "cell_type": "code",
   "execution_count": 9,
   "id": "72c16499",
   "metadata": {},
   "outputs": [
    {
     "data": {
      "text/plain": [
       "8"
      ]
     },
     "execution_count": 9,
     "metadata": {},
     "output_type": "execute_result"
    }
   ],
   "source": [
    "def fibo(n):\n",
    "    if n<= 0:\n",
    "        print(\"Please enter a positive integer\")\n",
    "    elif n == 1:\n",
    "        print(n)\n",
    "    else:\n",
    "        f0,f1=0,1\n",
    "        #lis=[f0,f1]\n",
    "        for i in range(3,n+1):\n",
    "            f2=f0+f1\n",
    "            #lis.append(f2)\n",
    "            f0=f1\n",
    "            f1=f2\n",
    "        #return lis\n",
    "        return f2\n",
    "fibo(7)"
   ]
  },
  {
   "cell_type": "markdown",
   "id": "a7d483fc",
   "metadata": {},
   "source": [
    "#### 2.Python Program for How to check if a given number is Fibonacci number?"
   ]
  },
  {
   "cell_type": "code",
   "execution_count": 16,
   "id": "1766f375",
   "metadata": {},
   "outputs": [
    {
     "name": "stdout",
     "output_type": "stream",
     "text": [
      "34 yes\n"
     ]
    }
   ],
   "source": [
    "def fibo(n):\n",
    "    if n<= 0:\n",
    "        print(\"Please enter a positive integer\")\n",
    "    elif n == 1:\n",
    "        print(n,'yes')\n",
    "    else:\n",
    "        f0,f1=0,1\n",
    "        while n!=0:\n",
    "            f2=f0+f1\n",
    "            f0=f1\n",
    "            f1=f2\n",
    "            if n==f2:\n",
    "                print(n,'yes')\n",
    "                break\n",
    "            if f2>n:\n",
    "                print(n,'no')\n",
    "                break\n",
    "    \n",
    "fibo(34)"
   ]
  },
  {
   "cell_type": "code",
   "execution_count": 26,
   "id": "8dc86001",
   "metadata": {},
   "outputs": [
    {
     "name": "stdout",
     "output_type": "stream",
     "text": [
      "34 is a Fibonacci Number\n"
     ]
    }
   ],
   "source": [
    "import math\n",
    "def isPerfectSquare(x):\n",
    "    s = int(math.sqrt(x))\n",
    "    return s*s == x\n",
    " \n",
    "def isFibonacci(n):\n",
    "    if isPerfectSquare(5*n*n + 4) == True or isPerfectSquare(5*n*n - 4) == True:\n",
    "        print (n,\"is a Fibonacci Number\")\n",
    "    else:\n",
    "         print (n,\"is a not Fibonacci Number \")\n",
    "    \n",
    "isFibonacci(34)"
   ]
  },
  {
   "cell_type": "markdown",
   "id": "45810f2c",
   "metadata": {},
   "source": [
    "#### 3.Python Program for n\\’th multiple of a number in Fibonacci Series"
   ]
  },
  {
   "cell_type": "code",
   "execution_count": 58,
   "id": "811b96f0",
   "metadata": {},
   "outputs": [
    {
     "name": "stdout",
     "output_type": "stream",
     "text": [
      " 5'th multiple of 4in Fibonacci Series is 832040 at position 30\n"
     ]
    }
   ],
   "source": [
    "def findPosition(k, n):\n",
    "    f1 = 0\n",
    "    f2 = 1\n",
    "    i =2;\n",
    "    while i!=0:\n",
    "        f3 = f1 + f2;\n",
    "        f1 = f2;\n",
    "        f2 = f3;\n",
    "        if f2%k == 0:\n",
    "            return n*i\n",
    "        i+=1\n",
    "    return\n",
    "# Multiple no.\n",
    "n = 5;\n",
    "# Number of whose multiple we are finding\n",
    "k = 4;\n",
    " \n",
    "m=findPosition(k,n)\n",
    "def fibo(a):\n",
    "    if a<= 0:\n",
    "        print(\"Please enter a positive integer\")\n",
    "    elif a == 1:\n",
    "        print(n)\n",
    "    else:\n",
    "        f0,f1=0,1\n",
    "        #0 is not included in series\n",
    "        for i in range(3,a+2):\n",
    "            f2=f0+f1\n",
    "            f0=f1\n",
    "            f1=f2\n",
    "        return f2\n",
    "ans=fibo(m)\n",
    "\n",
    "print(\" {}\\'th multiple of {}in Fibonacci Series is {} at position {}\".format(n,k,ans,m));"
   ]
  },
  {
   "cell_type": "markdown",
   "id": "8744dc94",
   "metadata": {},
   "source": [
    "#### 4.Program to print ASCII Value of a character"
   ]
  },
  {
   "cell_type": "code",
   "execution_count": 36,
   "id": "cc32a888",
   "metadata": {},
   "outputs": [
    {
     "name": "stdout",
     "output_type": "stream",
     "text": [
      "The ASCII value of '!' is 33\n"
     ]
    }
   ],
   "source": [
    "c = '!'\n",
    "print(\"The ASCII value of '\" + c + \"' is\", ord(c))"
   ]
  },
  {
   "cell_type": "markdown",
   "id": "bf6ee808",
   "metadata": {},
   "source": [
    "#### 5.Python Program for Sum of squares of first n natural numbers"
   ]
  },
  {
   "cell_type": "code",
   "execution_count": 39,
   "id": "89777307",
   "metadata": {},
   "outputs": [
    {
     "data": {
      "text/plain": [
       "14"
      ]
     },
     "execution_count": 39,
     "metadata": {},
     "output_type": "execute_result"
    }
   ],
   "source": [
    "def sum_sqr(n):\n",
    "    return n*(n+1)*(2*n+1)//6\n",
    "sum_sqr(3)"
   ]
  },
  {
   "cell_type": "markdown",
   "id": "6e3fcb0b",
   "metadata": {},
   "source": [
    "#### 6.Python Program for cube sum of first n natural numbers"
   ]
  },
  {
   "cell_type": "code",
   "execution_count": 42,
   "id": "5a3c80de",
   "metadata": {},
   "outputs": [
    {
     "data": {
      "text/plain": [
       "9"
      ]
     },
     "execution_count": 42,
     "metadata": {},
     "output_type": "execute_result"
    }
   ],
   "source": [
    "def sum_cube(n):\n",
    "    return (n*(n+1)//2)**2\n",
    "sum_cube(2)"
   ]
  },
  {
   "cell_type": "markdown",
   "id": "0a7241c7",
   "metadata": {},
   "source": [
    "#### 7.Python Program to find sum of array"
   ]
  },
  {
   "cell_type": "code",
   "execution_count": 47,
   "id": "5eba6f6c",
   "metadata": {},
   "outputs": [
    {
     "name": "stdout",
     "output_type": "stream",
     "text": [
      "Sum of the array using buitlin function 34\n",
      "Sum of the array using userd defined function 34\n"
     ]
    }
   ],
   "source": [
    "def _sum(arr): \n",
    "    sum=0\n",
    "    for i in arr:\n",
    "        sum = sum + i\n",
    "    return(sum) \n",
    "   \n",
    "arr = [12, 3, 4, 15]  \n",
    "n = len(arr) \n",
    "ans = _sum(arr) \n",
    "  \n",
    "print ('Sum of the array using buitlin function', sum(arr)) \n",
    "\n",
    "\n",
    "print ('Sum of the array using userd defined function', ans) \n",
    "  "
   ]
  },
  {
   "cell_type": "markdown",
   "id": "eec22da0",
   "metadata": {},
   "source": [
    "#### 8.Python Program to find largest element in an array"
   ]
  },
  {
   "cell_type": "code",
   "execution_count": 63,
   "id": "ce7b1d28",
   "metadata": {},
   "outputs": [
    {
     "name": "stdout",
     "output_type": "stream",
     "text": [
      "max element using buitlin function 15\n",
      "max element using userd defined function 15\n"
     ]
    }
   ],
   "source": [
    "def large(arr): \n",
    "    lar=arr[0]\n",
    "    for i in range(1,len(arr)):\n",
    "        if lar<arr[i]:\n",
    "            lar=arr[i]\n",
    "    return lar \n",
    "   \n",
    "arr = [12, 3, 4, 15]  \n",
    "ans = large(arr) \n",
    "  \n",
    "print ('max element using buitlin function', max(arr)) \n",
    "\n",
    "\n",
    "print ('max element using userd defined function', ans) "
   ]
  },
  {
   "cell_type": "markdown",
   "id": "2733def6",
   "metadata": {},
   "source": [
    "#### 9.Python Program for array rotation"
   ]
  },
  {
   "cell_type": "code",
   "execution_count": 66,
   "id": "069f5933",
   "metadata": {},
   "outputs": [
    {
     "name": "stdout",
     "output_type": "stream",
     "text": [
      "[1, 2, 3, 4, 5, 6]\n",
      "Rotated list is\n",
      "[2, 3, 4, 5, 6, 1]\n"
     ]
    }
   ],
   "source": [
    "def rotateList(arr,d,n):\n",
    "    arr[:]=arr[d:n]+arr[0:d]\n",
    "    return arr\n",
    "\n",
    "arr = [1, 2, 3, 4, 5, 6]\n",
    "print(arr)\n",
    "print(\"Rotated list is\")\n",
    "#2md argument is position from where to rotate\n",
    "print(rotateList(arr,1,len(arr))) \n",
    " "
   ]
  },
  {
   "cell_type": "markdown",
   "id": "17c08a22",
   "metadata": {},
   "source": [
    "#### 10.Python Program for Reversal algorithm for array rotation"
   ]
  },
  {
   "cell_type": "code",
   "execution_count": 76,
   "id": "943d1624",
   "metadata": {},
   "outputs": [
    {
     "name": "stdout",
     "output_type": "stream",
     "text": [
      "given [1, 2, 3, 4, 5, 6, 7]\n",
      "result [3, 4, 5, 6, 7, 1, 2]\n"
     ]
    }
   ],
   "source": [
    "# Function to reverse arr[] from index start to end\n",
    "def rverseArray(arr, start, end):\n",
    "    while (start < end):\n",
    "        temp = arr[start]\n",
    "        arr[start] = arr[end]\n",
    "        arr[end] = temp\n",
    "        start += 1\n",
    "        end = end-1\n",
    "        \n",
    "def leftRotate(arr, d):\n",
    "    n = len(arr)\n",
    "    rverseArray(arr, 0, d-1)\n",
    "    #print(arr)\n",
    "    rverseArray(arr, d, n-1)\n",
    "    #print(arr)\n",
    "    rverseArray(arr, 0, n-1)  \n",
    "\n",
    "arr = [1, 2, 3, 4, 5, 6, 7]\n",
    "print('given',arr)\n",
    "leftRotate(arr, 2) # Rotate array by 2\n",
    "print('result',arr )"
   ]
  },
  {
   "cell_type": "markdown",
   "id": "3e00d01e",
   "metadata": {},
   "source": [
    "####  11.Python Program to Split the array and add the first part to the end"
   ]
  },
  {
   "cell_type": "code",
   "execution_count": 86,
   "id": "54143272",
   "metadata": {},
   "outputs": [
    {
     "name": "stdout",
     "output_type": "stream",
     "text": [
      "given [1, 2, 3, 4, 5, 6, 7]\n",
      "result [3, 4, 5, 6, 7, 1, 2]\n"
     ]
    }
   ],
   "source": [
    "def splitArr(a, n, k):\n",
    "    b = a[:k]\n",
    "    return (a[k:]+b[:])\n",
    "          \n",
    "\n",
    "arr = [1, 2, 3, 4, 5, 6, 7]\n",
    "print('given',arr)\n",
    "n = len(arr)\n",
    "position = 2\n",
    "arr = splitArr(arr, n, position)\n",
    "print('result',arr )"
   ]
  },
  {
   "cell_type": "code",
   "execution_count": null,
   "id": "6c48b7ff",
   "metadata": {},
   "outputs": [],
   "source": []
  }
 ],
 "metadata": {
  "kernelspec": {
   "display_name": "Python 3",
   "language": "python",
   "name": "python3"
  },
  "language_info": {
   "codemirror_mode": {
    "name": "ipython",
    "version": 3
   },
   "file_extension": ".py",
   "mimetype": "text/x-python",
   "name": "python",
   "nbconvert_exporter": "python",
   "pygments_lexer": "ipython3",
   "version": "3.8.8"
  }
 },
 "nbformat": 4,
 "nbformat_minor": 5
}
