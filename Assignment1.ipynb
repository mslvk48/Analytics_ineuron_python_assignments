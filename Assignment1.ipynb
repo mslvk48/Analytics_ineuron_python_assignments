{
 "cells": [
  {
   "cell_type": "markdown",
   "id": "7d000d30",
   "metadata": {},
   "source": [
    "#### 1.Write a Python program to find those numbers which are divisible by 7 and multiple of 5, between 1500 and 2700 (both included)."
   ]
  },
  {
   "cell_type": "code",
   "execution_count": 2,
   "id": "1e9b7a12",
   "metadata": {},
   "outputs": [
    {
     "name": "stdout",
     "output_type": "stream",
     "text": [
      "[1505, 1512, 1519, 1526, 1533, 1540, 1547, 1554, 1561, 1568, 1575, 1582, 1589, 1596, 1603, 1610, 1617, 1624, 1631, 1638, 1645, 1652, 1659, 1666, 1673, 1680, 1687, 1694, 1701, 1708, 1715, 1722, 1729, 1736, 1743, 1750, 1757, 1764, 1771, 1778, 1785, 1792, 1799, 1806, 1813, 1820, 1827, 1834, 1841, 1848, 1855, 1862, 1869, 1876, 1883, 1890, 1897, 1904, 1911, 1918, 1925, 1932, 1939, 1946, 1953, 1960, 1967, 1974, 1981, 1988, 1995, 2002, 2009, 2016, 2023, 2030, 2037, 2044, 2051, 2058, 2065, 2072, 2079, 2086, 2093, 2100, 2107, 2114, 2121, 2128, 2135, 2142, 2149, 2156, 2163, 2170, 2177, 2184, 2191, 2198, 2205, 2212, 2219, 2226, 2233, 2240, 2247, 2254, 2261, 2268, 2275, 2282, 2289, 2296, 2303, 2310, 2317, 2324, 2331, 2338, 2345, 2352, 2359, 2366, 2373, 2380, 2387, 2394, 2401, 2408, 2415, 2422, 2429, 2436, 2443, 2450, 2457, 2464, 2471, 2478, 2485, 2492, 2499, 2506, 2513, 2520, 2527, 2534, 2541, 2548, 2555, 2562, 2569, 2576, 2583, 2590, 2597, 2604, 2611, 2618, 2625, 2632, 2639, 2646, 2653, 2660, 2667, 2674, 2681, 2688, 2695]\n"
     ]
    }
   ],
   "source": [
    "answers=[]\n",
    "for i in range(1500,2701):\n",
    "    if (i%7==0 & i%5==0):\n",
    "        answers.append(i)\n",
    "print(answers)"
   ]
  },
  {
   "cell_type": "markdown",
   "id": "a70df48b",
   "metadata": {},
   "source": [
    "#### 2.Python program to add two numbers"
   ]
  },
  {
   "cell_type": "code",
   "execution_count": 15,
   "id": "8c7a1167",
   "metadata": {},
   "outputs": [
    {
     "name": "stdout",
     "output_type": "stream",
     "text": [
      "not numbers\n"
     ]
    }
   ],
   "source": [
    "def add(a,b):\n",
    "    if isinstance(a, (int, float)) & isinstance(b, (int, float)):\n",
    "        return a+b\n",
    "    else:\n",
    "        print('not numbers')\n",
    "add('aa',3.5)"
   ]
  },
  {
   "cell_type": "markdown",
   "id": "e5872c65",
   "metadata": {},
   "source": [
    "#### 3.Maximum of two numbers in Python"
   ]
  },
  {
   "cell_type": "code",
   "execution_count": 1,
   "id": "cb979800",
   "metadata": {},
   "outputs": [
    {
     "data": {
      "text/plain": [
       "150"
      ]
     },
     "execution_count": 1,
     "metadata": {},
     "output_type": "execute_result"
    }
   ],
   "source": [
    "def maxim(a,b):\n",
    "    if isinstance(a, (int, float)) & isinstance(b, (int, float)):\n",
    "        return max(a,b)\n",
    "    else:\n",
    "        print('not numbers')\n",
    "maxim(150,4)"
   ]
  },
  {
   "cell_type": "markdown",
   "id": "5e8ee0ea",
   "metadata": {},
   "source": [
    "#### 4.Python Program for factorial of a number"
   ]
  },
  {
   "cell_type": "code",
   "execution_count": 14,
   "id": "65ead42e",
   "metadata": {},
   "outputs": [
    {
     "name": "stdout",
     "output_type": "stream",
     "text": [
      "not an integer\n"
     ]
    }
   ],
   "source": [
    "def fact(a):\n",
    "    if isinstance(a, (int)):\n",
    "        res=1\n",
    "        for i in range(1,a+1):\n",
    "            res=res*i\n",
    "        return res\n",
    "    else:\n",
    "        print('not an integer')\n",
    "\n",
    "fact(4.0)"
   ]
  },
  {
   "cell_type": "markdown",
   "id": "41f64889",
   "metadata": {},
   "source": [
    "#### 5.Python Program for simple interest"
   ]
  },
  {
   "cell_type": "code",
   "execution_count": 19,
   "id": "11473159",
   "metadata": {},
   "outputs": [
    {
     "data": {
      "text/plain": [
       "16275.0"
      ]
     },
     "execution_count": 19,
     "metadata": {},
     "output_type": "execute_result"
    }
   ],
   "source": [
    "def simple(P,R,T):\n",
    "    if isinstance(T, (int, float)) & isinstance(P, (int, float)) & isinstance(R, (int, float)):\n",
    "        return (P*R*T)/100\n",
    "    else :\n",
    "        print('not possible')\n",
    "#enter time in years format\n",
    "simple(46500,20,1.75)"
   ]
  },
  {
   "cell_type": "markdown",
   "id": "ae771de7",
   "metadata": {},
   "source": [
    "#### 6.Python Program for compound interest"
   ]
  },
  {
   "cell_type": "code",
   "execution_count": 26,
   "id": "5d4ad336",
   "metadata": {},
   "outputs": [
    {
     "data": {
      "text/plain": [
       "6288.946267774416"
      ]
     },
     "execution_count": 26,
     "metadata": {},
     "output_type": "execute_result"
    }
   ],
   "source": [
    "def compound(P,R,T):\n",
    "    if isinstance(T, (int, float)) & isinstance(P, (int, float)) & isinstance(R, (int, float)):\n",
    "        total=P*(1+R/100)**T\n",
    "        return total-P\n",
    "    else :\n",
    "        print('not possible')\n",
    "#enter time in years format\n",
    "compound(10000, 10.25, 5)"
   ]
  },
  {
   "cell_type": "markdown",
   "id": "34ca312c",
   "metadata": {},
   "source": [
    "#### 7.Python Program to check Armstrong Number"
   ]
  },
  {
   "cell_type": "code",
   "execution_count": 33,
   "id": "aa0c04b5",
   "metadata": {},
   "outputs": [
    {
     "name": "stdout",
     "output_type": "stream",
     "text": [
      "not an armstrong number\n"
     ]
    }
   ],
   "source": [
    "def arms(a):\n",
    "    if isinstance(a, int) :\n",
    "        b=a\n",
    "        rev=0\n",
    "        while a!=0:\n",
    "            temp=a%10\n",
    "            rev=rev+ temp**3\n",
    "            a=a//10\n",
    "        if rev==b:\n",
    "            print(b,'is an armstrong number')\n",
    "        else :\n",
    "            print('not an armstrong number')\n",
    "    else :\n",
    "        print('not an integer')\n",
    "\n",
    "arms(1531)"
   ]
  },
  {
   "cell_type": "markdown",
   "id": "56b2eaa1",
   "metadata": {},
   "source": [
    "#### 8.Python Program for Program to find area of a circle"
   ]
  },
  {
   "cell_type": "code",
   "execution_count": 34,
   "id": "c4fdb2c8",
   "metadata": {},
   "outputs": [
    {
     "data": {
      "text/plain": [
       "78.53975"
      ]
     },
     "execution_count": 34,
     "metadata": {},
     "output_type": "execute_result"
    }
   ],
   "source": [
    "def area_circle(r):\n",
    "    if isinstance(r,(int,float)) :\n",
    "        pi=3.14159\n",
    "        return pi*r**2\n",
    "    else :\n",
    "        print('not a number')\n",
    "area_circle(5)"
   ]
  },
  {
   "cell_type": "markdown",
   "id": "5e5ad8c6",
   "metadata": {},
   "source": [
    "#### 9.Python program to print all Prime numbers in an Interval"
   ]
  },
  {
   "cell_type": "code",
   "execution_count": 79,
   "id": "5e303442",
   "metadata": {},
   "outputs": [
    {
     "name": "stdout",
     "output_type": "stream",
     "text": [
      "prime numbers between 0 and 15 are\n",
      "\n",
      "2\n",
      "3\n",
      "5\n",
      "7\n",
      "11\n",
      "13\n"
     ]
    }
   ],
   "source": [
    "def prime(a,b):\n",
    "    if isinstance(a,(int,float)) & isinstance(b,(int,float)):\n",
    "        prime_list=[]\n",
    "        for num in range(a, b + 1):\n",
    "            if num > 1:\n",
    "                for i in range(2, 1+num//2):\n",
    "                    if (num % i) == 0:\n",
    "                        break\n",
    "                else:\n",
    "                    print(num)\n",
    "                    #prime_list.append(num)\n",
    "        #return prime_list\n",
    "    else :\n",
    "        print('not possible')\n",
    "\n",
    "start,end=0,15\n",
    "print('prime numbers between',start,'and',end,'are\\n')\n",
    "prime(start,end)"
   ]
  },
  {
   "cell_type": "markdown",
   "id": "8c925323",
   "metadata": {},
   "source": [
    "#### 10.Python program to check whether a number is Prime or not"
   ]
  },
  {
   "cell_type": "code",
   "execution_count": 88,
   "id": "dec09aba",
   "metadata": {},
   "outputs": [
    {
     "name": "stdout",
     "output_type": "stream",
     "text": [
      "16 not a prime\n"
     ]
    }
   ],
   "source": [
    "def prime(a):\n",
    "    if isinstance(a,(int,float)):\n",
    "            if a > 1:\n",
    "                for i in range(2, 1+a//2):\n",
    "                    if (a% i) == 0:\n",
    "                        print(a,'not a prime')\n",
    "                        break\n",
    "                else:\n",
    "                    print(a,'is prime')\n",
    "            else:\n",
    "                print(a,'is not prime')\n",
    "    else :\n",
    "        print('not an integer')\n",
    "\n",
    "prime(16)"
   ]
  },
  {
   "cell_type": "code",
   "execution_count": null,
   "id": "c436fabf",
   "metadata": {},
   "outputs": [],
   "source": []
  }
 ],
 "metadata": {
  "kernelspec": {
   "display_name": "Python 3",
   "language": "python",
   "name": "python3"
  },
  "language_info": {
   "codemirror_mode": {
    "name": "ipython",
    "version": 3
   },
   "file_extension": ".py",
   "mimetype": "text/x-python",
   "name": "python",
   "nbconvert_exporter": "python",
   "pygments_lexer": "ipython3",
   "version": "3.8.8"
  }
 },
 "nbformat": 4,
 "nbformat_minor": 5
}
