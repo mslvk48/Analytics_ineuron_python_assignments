{
 "cells": [
  {
   "cell_type": "markdown",
   "id": "f500af99",
   "metadata": {},
   "source": [
    "#### 1.Python Program for Find reminder of array multiplication divided by n"
   ]
  },
  {
   "cell_type": "code",
   "execution_count": 25,
   "id": "6d2c1875",
   "metadata": {},
   "outputs": [
    {
     "name": "stdout",
     "output_type": "stream",
     "text": [
      "given array: [100, 10, 5, 25, 35, 14, 15] \n",
      " array mul:  918750000 \n",
      " result is:  3\n"
     ]
    }
   ],
   "source": [
    "#general all elements multiplication\n",
    "from functools import reduce\n",
    "\n",
    "a=[100,10,5,25,35,14,15]\n",
    "mul=reduce(lambda x,y : x*y,a)\n",
    "n=11\n",
    "print('given array:',a,'\\n array mul: ',mul,'\\n result is: ',mul%n)"
   ]
  },
  {
   "cell_type": "code",
   "execution_count": 27,
   "id": "dda2e75e",
   "metadata": {},
   "outputs": [
    {
     "name": "stdout",
     "output_type": "stream",
     "text": [
      "given array: [100, 10, 5, 25, 35, 14, 15] \n",
      " result is:  3\n"
     ]
    }
   ],
   "source": [
    "# to avoid overflow.  ( a * b) % c = ( ( a % c ) * ( b % c ) ) % c \n",
    "from functools import reduce\n",
    "\n",
    "a=[100,10,5,25,35,14,15]\n",
    "n=11\n",
    "mul=reduce(lambda x,y : (x%n)*(y%n),a)\n",
    "print('given array:',a,'\\n result is: ',mul%n)"
   ]
  },
  {
   "cell_type": "markdown",
   "id": "3d90e739",
   "metadata": {},
   "source": [
    "#### 2.Python Program to check if given array is Monotonic"
   ]
  },
  {
   "cell_type": "code",
   "execution_count": 48,
   "id": "5d001ca4",
   "metadata": {},
   "outputs": [
    {
     "name": "stdout",
     "output_type": "stream",
     "text": [
      "True\n"
     ]
    }
   ],
   "source": [
    "def isMonotonic(A):\n",
    "    return (all(A[i] <= A[i + 1] for i in range(len(A) - 1)) or\n",
    "            all(A[i] >= A[i + 1] for i in range(len(A) - 1))) \n",
    "\n",
    "A = [6, 5, 4, 4]\n",
    "  \n",
    "print(isMonotonic(A))"
   ]
  },
  {
   "cell_type": "markdown",
   "id": "6890c7c5",
   "metadata": {},
   "source": [
    "#### 3.Python program to interchange first and last elements in a list"
   ]
  },
  {
   "cell_type": "code",
   "execution_count": 55,
   "id": "a51ad96c",
   "metadata": {},
   "outputs": [
    {
     "data": {
      "text/plain": [
       "(4, 2, 3, 2, 2, 1)"
      ]
     },
     "execution_count": 55,
     "metadata": {},
     "output_type": "execute_result"
    }
   ],
   "source": [
    "def inter(lis):\n",
    "    a,*mid,z=lis\n",
    "    lis=z,*mid,a\n",
    "    return lis\n",
    "\n",
    "A = [1,2,3,2,2,4]\n",
    "inter(A)"
   ]
  },
  {
   "cell_type": "markdown",
   "id": "45f5f93b",
   "metadata": {},
   "source": [
    "#### 4.Python program to swap two elements in a list"
   ]
  },
  {
   "cell_type": "code",
   "execution_count": 64,
   "id": "0730c9d1",
   "metadata": {},
   "outputs": [
    {
     "name": "stdout",
     "output_type": "stream",
     "text": [
      "[23, 65, 90, 19, 11]\n"
     ]
    }
   ],
   "source": [
    "def swapPositions(listt, p1, p2):\n",
    "    if p1>p2:\n",
    "        p1,p2=p2,p1\n",
    "    \n",
    "    fs_el = listt.pop(p1)  \n",
    "    sc_el = listt.pop(p2-1)\n",
    "    \n",
    "    listt.insert(p1, sc_el) \n",
    "    listt.insert(p2, fs_el) \n",
    "    return listt\n",
    "\n",
    "Listt = [23, 65, 19, 90,11]\n",
    "p1, p2  = 4, 3\n",
    " \n",
    "print(swapPositions(Listt, p1-1, p2-1))"
   ]
  },
  {
   "cell_type": "markdown",
   "id": "23295561",
   "metadata": {},
   "source": [
    "#### 5.write a program to find length of list"
   ]
  },
  {
   "cell_type": "code",
   "execution_count": 69,
   "id": "16b3d5bc",
   "metadata": {},
   "outputs": [
    {
     "name": "stdout",
     "output_type": "stream",
     "text": [
      "The length of the list [10, 20, 30] is 3:  \n"
     ]
    }
   ],
   "source": [
    "a=[10, 20, 30]\n",
    "n = len(a)\n",
    "print(\"The length of the list {} is {}:  \".format(a,n))"
   ]
  },
  {
   "cell_type": "markdown",
   "id": "83fff471",
   "metadata": {},
   "source": [
    "#### 6.write a program to check if element exists in list"
   ]
  },
  {
   "cell_type": "code",
   "execution_count": 82,
   "id": "fa90fd6b",
   "metadata": {},
   "outputs": [
    {
     "name": "stdout",
     "output_type": "stream",
     "text": [
      "searching for 2 in the list [1, 'a', 2, 'ksf', 65, 5, 'ahs']\n"
     ]
    },
    {
     "data": {
      "text/plain": [
       "'existed'"
      ]
     },
     "execution_count": 82,
     "metadata": {},
     "output_type": "execute_result"
    }
   ],
   "source": [
    "import random\n",
    "\n",
    "aa=[1,'a',2,'ksf',65,5,'ahs']\n",
    "\n",
    "elem=random.choice(a)\n",
    "\n",
    "print('searching for {} in the list {}'.format(ele,a))\n",
    "\n",
    "f=lambda lis,ele: 'existed' if ele in lis else 'not existed'\n",
    "\n",
    "f(aa,elem)"
   ]
  },
  {
   "cell_type": "markdown",
   "id": "3f79df51",
   "metadata": {},
   "source": [
    "#### 7.write a program to clear a list in Python"
   ]
  },
  {
   "cell_type": "code",
   "execution_count": 88,
   "id": "31a325cd",
   "metadata": {},
   "outputs": [
    {
     "ename": "SyntaxError",
     "evalue": "invalid syntax (<ipython-input-88-f4fb92d1db6a>, line 4)",
     "output_type": "error",
     "traceback": [
      "\u001b[1;36m  File \u001b[1;32m\"<ipython-input-88-f4fb92d1db6a>\"\u001b[1;36m, line \u001b[1;32m4\u001b[0m\n\u001b[1;33m    f2= lambda lis: del lis[:]\u001b[0m\n\u001b[1;37m                    ^\u001b[0m\n\u001b[1;31mSyntaxError\u001b[0m\u001b[1;31m:\u001b[0m invalid syntax\n"
     ]
    }
   ],
   "source": [
    "aa=[1,'a',2,'ksf',65,5,'ahs']\n",
    "\n",
    "f1= lambda lis: lis.clear()\n",
    "\n",
    "f2(aa)\n",
    "print(aa)"
   ]
  },
  {
   "cell_type": "code",
   "execution_count": 91,
   "id": "8f76ddc8",
   "metadata": {},
   "outputs": [
    {
     "name": "stdout",
     "output_type": "stream",
     "text": [
      "[]\n"
     ]
    }
   ],
   "source": [
    "aa=[1,'a',2,'ksf',65,5,'ahs']\n",
    "del aa[:]\n",
    "\n",
    "print(aa)"
   ]
  },
  {
   "cell_type": "markdown",
   "id": "27e59f29",
   "metadata": {},
   "source": [
    "#### 8.write a program to Reversing a List"
   ]
  },
  {
   "cell_type": "code",
   "execution_count": 95,
   "id": "656f201a",
   "metadata": {},
   "outputs": [
    {
     "name": "stdout",
     "output_type": "stream",
     "text": [
      "[4, 3, 2, 1]\n"
     ]
    }
   ],
   "source": [
    "aa=[1,2,3,4]\n",
    "\n",
    "def rev(aa):\n",
    "    f,l=0,len(aa)-1\n",
    "    while f < l:\n",
    "        aa[f],aa[l]=aa[l],aa[f]\n",
    "        f+=1\n",
    "        l-=1\n",
    "        \n",
    "rev(aa)  \n",
    "print(aa)"
   ]
  },
  {
   "cell_type": "code",
   "execution_count": 100,
   "id": "dfab3e9a",
   "metadata": {},
   "outputs": [
    {
     "name": "stdout",
     "output_type": "stream",
     "text": [
      "[1, 2, 3, 4]\n",
      "[4, 3, 2, 1]\n"
     ]
    }
   ],
   "source": [
    "a=[1,2,3,4]\n",
    "print(a)\n",
    "a.reverse()\n",
    "print(a)"
   ]
  },
  {
   "cell_type": "markdown",
   "id": "6753e99d",
   "metadata": {},
   "source": [
    "#### 9.write a program to find sum of elements in list"
   ]
  },
  {
   "cell_type": "code",
   "execution_count": 101,
   "id": "05b1da76",
   "metadata": {},
   "outputs": [
    {
     "data": {
      "text/plain": [
       "10"
      ]
     },
     "execution_count": 101,
     "metadata": {},
     "output_type": "execute_result"
    }
   ],
   "source": [
    "aa=[1,2,3,4]\n",
    "\n",
    "def sum_lis(aa):\n",
    "    return sum(aa)\n",
    "        \n",
    "sum_lis(aa)  \n"
   ]
  },
  {
   "cell_type": "markdown",
   "id": "fe458744",
   "metadata": {},
   "source": [
    "#### 10.write a program to Multiply all numbers in the list"
   ]
  },
  {
   "cell_type": "code",
   "execution_count": 106,
   "id": "6817f82c",
   "metadata": {},
   "outputs": [
    {
     "data": {
      "text/plain": [
       "24"
      ]
     },
     "execution_count": 106,
     "metadata": {},
     "output_type": "execute_result"
    }
   ],
   "source": [
    "aa=[1,2,3,4]\n",
    "\n",
    "mul_lis=reduce(lambda x,y : x*y, aa)\n",
    "        \n",
    "mul_lis  \n"
   ]
  },
  {
   "cell_type": "code",
   "execution_count": null,
   "id": "055ba26b",
   "metadata": {},
   "outputs": [],
   "source": []
  }
 ],
 "metadata": {
  "kernelspec": {
   "display_name": "Python 3",
   "language": "python",
   "name": "python3"
  },
  "language_info": {
   "codemirror_mode": {
    "name": "ipython",
    "version": 3
   },
   "file_extension": ".py",
   "mimetype": "text/x-python",
   "name": "python",
   "nbconvert_exporter": "python",
   "pygments_lexer": "ipython3",
   "version": "3.8.8"
  }
 },
 "nbformat": 4,
 "nbformat_minor": 5
}
